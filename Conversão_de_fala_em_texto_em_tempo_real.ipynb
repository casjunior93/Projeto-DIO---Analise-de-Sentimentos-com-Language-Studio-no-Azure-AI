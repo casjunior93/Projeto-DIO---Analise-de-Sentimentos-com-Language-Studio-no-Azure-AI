{
  "nbformat": 4,
  "nbformat_minor": 0,
  "metadata": {
    "colab": {
      "provenance": [],
      "authorship_tag": "ABX9TyM/HHCqK0cPKEcvm5OF9O9N",
      "include_colab_link": true
    },
    "kernelspec": {
      "name": "python3",
      "display_name": "Python 3"
    },
    "language_info": {
      "name": "python"
    }
  },
  "cells": [
    {
      "cell_type": "markdown",
      "metadata": {
        "id": "view-in-github",
        "colab_type": "text"
      },
      "source": [
        "<a href=\"https://colab.research.google.com/github/casjunior93/Projeto-DIO---Analise-de-Sentimentos-com-Language-Studio-no-Azure-AI/blob/main/Convers%C3%A3o_de_fala_em_texto_em_tempo_real.ipynb\" target=\"_parent\"><img src=\"https://colab.research.google.com/assets/colab-badge.svg\" alt=\"Open In Colab\"/></a>"
      ]
    },
    {
      "cell_type": "markdown",
      "source": [
        "# Conversão de fala em texto em tempo real"
      ],
      "metadata": {
        "id": "lgqDqZJNAppD"
      }
    },
    {
      "cell_type": "markdown",
      "source": [
        "Execute na primeira vez que usar o notebook:"
      ],
      "metadata": {
        "id": "sPu1x2X42CqH"
      }
    },
    {
      "cell_type": "code",
      "execution_count": 1,
      "metadata": {
        "colab": {
          "base_uri": "https://localhost:8080/"
        },
        "id": "VWUq0VYD16XI",
        "outputId": "f6765517-7013-4ed6-8a6b-fdbd8e9ed75f"
      },
      "outputs": [
        {
          "output_type": "stream",
          "name": "stdout",
          "text": [
            "Requirement already satisfied: azure-cognitiveservices-speech in /usr/local/lib/python3.10/dist-packages (1.35.0)\n",
            "Requirement already satisfied: azure-cognitiveservices-speech in /usr/local/lib/python3.10/dist-packages (1.35.0)\n"
          ]
        }
      ],
      "source": [
        "!pip install azure-cognitiveservices-speech\n",
        "!pip install --upgrade azure-cognitiveservices-speech"
      ]
    },
    {
      "cell_type": "markdown",
      "source": [
        "E isto é para resolver um problema de dependência. O SDK não suporta libssl3, então temos que instalar libssl1.1 manualmente. Também para ser executado na primeira vez que abrir o notebook."
      ],
      "metadata": {
        "id": "ZMC5JAk8_nlv"
      }
    },
    {
      "cell_type": "code",
      "source": [
        "!wget http://archive.ubuntu.com/ubuntu/pool/main/o/openssl/libssl1.1_1.1.0g-2ubuntu4_amd64.deb\n",
        "!sudo dpkg -i libssl1.1_1.1.0g-2ubuntu4_amd64.deb"
      ],
      "metadata": {
        "id": "pUchTyzj_s6H"
      },
      "execution_count": null,
      "outputs": []
    },
    {
      "cell_type": "markdown",
      "source": [
        "Agora configure aqui os valores da chave de recurso e da região. É possível obtê-las em Estúdio de fala > Conversão de fala em texto em tempo real, no final da página:"
      ],
      "metadata": {
        "id": "phqx1F4J3cyi"
      }
    },
    {
      "cell_type": "code",
      "source": [
        "speech_key = \"SUA CHAVE\"\n",
        "speech_region = \"SUA REGIÃO\""
      ],
      "metadata": {
        "id": "jFUXDmSN30nB"
      },
      "execution_count": 3,
      "outputs": []
    },
    {
      "cell_type": "markdown",
      "source": [
        "Em seguida, utilizo a função que vai utilizar método para autenticar no Azure, configurar a linguagem que será utilizada, configurar o microfone que será utilizado e por fim fazer a conversão de fala para texto."
      ],
      "metadata": {
        "id": "0p4i7PBC2TpG"
      }
    },
    {
      "cell_type": "markdown",
      "source": [
        "O exemplo era para ser utilizado obtendo uma fala do microfone. Mas tive problemas em habilitar o microfone pelo Colab. Como não é o foco, apenas obtive uma fala que gravei anteriormente pelo computador."
      ],
      "metadata": {
        "id": "mK-wW4dt7yX7"
      }
    },
    {
      "cell_type": "code",
      "source": [
        "import os\n",
        "import azure.cognitiveservices.speech as speechsdk\n",
        "\n",
        "def recognize_from_microphone():\n",
        "    # This example requires environment variables named \"SPEECH_KEY\" and \"SPEECH_REGION\"\n",
        "    speech_config = speechsdk.SpeechConfig(subscription=speech_key, region=speech_region)\n",
        "    speech_config.speech_recognition_language=\"pt-BR\"\n",
        "\n",
        "    #audio_config = speechsdk.audio.AudioConfig(use_default_microphone=True) //Se for usar o microfone\n",
        "    audio_config = speechsdk.audio.AudioConfig(filename=\"/audio_082e3550-c87c-11ee-ba7d-ff0b0738adb0.wav\") #Importe o aúdio para o Colab\n",
        "\n",
        "    speech_recognizer = speechsdk.SpeechRecognizer(speech_config=speech_config, audio_config=audio_config)\n",
        "\n",
        "    print(\"Convertendo a fala.\")\n",
        "    speech_recognition_result = speech_recognizer.recognize_once_async().get()\n",
        "\n",
        "    if speech_recognition_result.reason == speechsdk.ResultReason.RecognizedSpeech:\n",
        "        print(\"Reconhecido: {}\".format(speech_recognition_result.text))\n",
        "    elif speech_recognition_result.reason == speechsdk.ResultReason.NoMatch:\n",
        "        print(\"Nenhuma fala pode ser reconhecida: {}\".format(speech_recognition_result.no_match_details))\n",
        "    elif speech_recognition_result.reason == speechsdk.ResultReason.Canceled:\n",
        "        cancellation_details = speech_recognition_result.cancellation_details\n",
        "        print(\"Reconhecimento de fala cancelado: {}\".format(cancellation_details.reason))\n",
        "        if cancellation_details.reason == speechsdk.CancellationReason.Error:\n",
        "            print(\"Detalhes do erro: {}\".format(cancellation_details.error_details))\n",
        "            print(\"Você definiu a chave do recurso de fala e os valores da região?\")\n",
        "\n",
        "recognize_from_microphone()"
      ],
      "metadata": {
        "colab": {
          "base_uri": "https://localhost:8080/"
        },
        "id": "7jRhp0zB2VOB",
        "outputId": "4746839a-a85f-450f-a73a-6ab8dded3fa9"
      },
      "execution_count": 4,
      "outputs": [
        {
          "output_type": "stream",
          "name": "stdout",
          "text": [
            "Convertendo a fala.\n",
            "Reconhecido: Nós somos feitos de poeira das estrelas, somos uma maneira de o universo se autoconhecer, Carl Sagan.\n"
          ]
        }
      ]
    },
    {
      "cell_type": "markdown",
      "source": [
        "Conversão de fala em texto feita com sucesso!"
      ],
      "metadata": {
        "id": "FIhFrXXrAV3V"
      }
    }
  ]
}